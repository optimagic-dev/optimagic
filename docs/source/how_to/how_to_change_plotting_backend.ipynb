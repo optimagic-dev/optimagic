{
 "cells": [
  {
   "cell_type": "markdown",
   "id": "0",
   "metadata": {},
   "source": [
    "# How to change the plotting backend"
   ]
  },
  {
   "cell_type": "markdown",
   "id": "1",
   "metadata": {},
   "source": [
    "optimagic supports the following visualization libraries as plotting backends:\n",
    "\n",
    "- [`plotly`](https://plotly.com/python/) (Default)\n",
    "- [`matplotlib`](https://matplotlib.org/)\n"
   ]
  },
  {
   "cell_type": "markdown",
   "id": "2",
   "metadata": {},
   "source": [
    "To use a specific plotting backend, pass the backend name (e.g., `\"matplotlib\"`) to the `backend` argument.\n",
    "\n",
    "::::{tab-set}\n",
    ":sync-group: plotting_backend\n",
    "\n",
    ":::{tab-item} Plotly\n",
    ":sync: plotly\n",
    "`\"plotly\"`\n",
    ":::\n",
    "\n",
    ":::{tab-item} Matplotlib\n",
    ":sync: matplotlib\n",
    "`\"matplotlib\"`\n",
    ":::\n",
    "\n",
    "::::\n",
    "\n",
    "All plotting functions return the native figure object for the selected backend.\n",
    "\n",
    "::::{tab-set}\n",
    ":sync-group: plotting_backend\n",
    "\n",
    ":::{tab-item} Plotly\n",
    ":sync: plotly\n",
    "[`plotly.graph_objects.Figure`](https://plotly.com/python-api-reference/generated/plotly.graph_objects.Figure.html)\n",
    ":::\n",
    "\n",
    ":::{tab-item} Matplotlib\n",
    ":sync: matplotlib\n",
    "[`matplotlib.axes.Axes`](https://matplotlib.org/stable/api/axes_api.html#matplotlib.axes.Axes)\n",
    ":::\n",
    "\n",
    "::::"
   ]
  },
  {
   "cell_type": "code",
   "execution_count": null,
   "id": "3",
   "metadata": {},
   "outputs": [],
   "source": [
    "import numpy as np\n",
    "import plotly.io as pio\n",
    "\n",
    "pio.renderers.default = \"notebook_connected\"\n",
    "%matplotlib inline\n",
    "\n",
    "import optimagic as om"
   ]
  },
  {
   "cell_type": "code",
   "execution_count": null,
   "id": "4",
   "metadata": {},
   "outputs": [],
   "source": [
    "def sphere(x):\n",
    "    return x @ x\n",
    "\n",
    "\n",
    "results = {}\n",
    "for algo in [\"scipy_lbfgsb\", \"scipy_neldermead\"]:\n",
    "    results[algo] = om.minimize(sphere, params=np.arange(5), algorithm=algo)"
   ]
  },
  {
   "cell_type": "markdown",
   "id": "5",
   "metadata": {},
   "source": [
    "## Criterion Plot with Plotly"
   ]
  },
  {
   "cell_type": "markdown",
   "id": "6",
   "metadata": {},
   "source": [
    "By default, optimagic uses Plotly for plotting if you do not specify a backend."
   ]
  },
  {
   "cell_type": "code",
   "execution_count": null,
   "id": "7",
   "metadata": {},
   "outputs": [],
   "source": [
    "fig = om.criterion_plot(results)\n",
    "fig.show()"
   ]
  },
  {
   "cell_type": "markdown",
   "id": "8",
   "metadata": {},
   "source": [
    "## Criterion Plot with Matplotlib"
   ]
  },
  {
   "cell_type": "code",
   "execution_count": null,
   "id": "9",
   "metadata": {},
   "outputs": [],
   "source": [
    "ax = om.criterion_plot(results, backend=\"matplotlib\")"
   ]
  }
 ],
 "metadata": {
  "kernelspec": {
   "display_name": "optimagic",
   "language": "python",
   "name": "python3"
  },
  "language_info": {
   "name": "python",
   "version": "3.10.17"
  }
 },
 "nbformat": 4,
 "nbformat_minor": 5
}
