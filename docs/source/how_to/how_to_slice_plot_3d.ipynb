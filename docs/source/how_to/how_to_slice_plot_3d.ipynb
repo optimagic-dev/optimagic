{
 "cells": [
  {
   "cell_type": "markdown",
   "id": "0",
   "metadata": {},
   "source": [
    "## How to visualize slice plot 3d\n",
    "\n",
    "This notebook demonstrates how to visualize the behavior of a function across its parameter space using slice plots, contour plots, and surface plots.\n",
    "\n",
    "It uses a flexible plotting tool built with:\n",
    "- Plotly for interactive plotting\n",
    "- Optimagic utilities for parameter and bounds handling\n",
    "- Parallel evaluation for faster function calls\n",
    "\n",
    "### Projections Available\n",
    "\n",
    "- Slice Plot - `slice`:\n",
    "    - A 1D line plot showing how the function output changes when you vary one parameter at a time and keep the others fixed.\n",
    "    - Understand individual parameter sensitivity — how much each parameter affects the function by itself.\n",
    "- Contour Plot - `contour`:\n",
    "    - A 2D plot where the x-axis and y-axis are two parameters, and the function value is shown with color shading or lines (contours).\n",
    "    - Visualize interactions between two parameters at a time. Find valleys, ridges, and optimal zones easily.\n",
    "- Surface Plot - `surface`:\n",
    "    - A 3D surface plot where:\n",
    "       - Two axes are two parameters (like x and y).\n",
    "       - The third (height) axis shows the function value.\n",
    "    - Get an intuitive 3D feeling for how the function behaves over two parameters together.\n",
    " \n",
    "### Behind the Scenes\n",
    "\n",
    "The plotting functions internally:\n",
    "- Preprocess function outputs and bounds\n",
    "- Auto-generate evaluation grids\n",
    "- Use parallel computation for efficiency\n",
    "- Provide flexible styling and layout control\n",
    "- Clean legends to avoid duplicates when combining plots\n",
    "\n",
    "\n"
   ]
  },
  {
   "cell_type": "code",
   "execution_count": null,
   "id": "1",
   "metadata": {},
   "outputs": [],
   "source": [
    "import numpy as np\n",
    "\n",
    "import optimagic as om"
   ]
  },
  {
   "cell_type": "markdown",
   "id": "2",
   "metadata": {},
   "source": [
    "### Simple Surface Plot"
   ]
  },
  {
   "cell_type": "code",
   "execution_count": null,
   "id": "3",
   "metadata": {},
   "outputs": [],
   "source": [
    "def sphere(paramss):\n",
    "    x = np.array([paramss.get(\"alpha\"), paramss.get(\"beta\")], dtype=np.float64)\n",
    "    return x @ x\n",
    "\n",
    "\n",
    "params = {\"alpha\": 2, \"beta\": 2, \"gamma\": 2, \"delta\": 2}\n",
    "bounds = om.Bounds(\n",
    "    lower={name: -3 for name in params},\n",
    "    upper={name: 3 for name in params},\n",
    ")\n",
    "fig = om.sandbox.slice_plot_3d(\n",
    "    func=sphere,\n",
    "    params=params,\n",
    "    bounds=bounds,\n",
    "    projection=\"slice\",\n",
    "    n_gridpoints=50,\n",
    "    # selector=lambda x: [x[\"alpha\"], x[\"beta\"]],\n",
    ")\n",
    "fig.show()"
   ]
  },
  {
   "cell_type": "markdown",
   "id": "4",
   "metadata": {},
   "source": [
    "### Simple Contour Plot"
   ]
  },
  {
   "cell_type": "code",
   "execution_count": null,
   "id": "5",
   "metadata": {},
   "outputs": [],
   "source": [
    "def sphere(params):\n",
    "    x = np.array(list(params.values()))\n",
    "    return x @ x\n",
    "\n",
    "\n",
    "params = {\"alpha\": 2, \"beta\": 2, \"gamma\": 2, \"delta\": 2}\n",
    "bounds = om.Bounds(\n",
    "    lower={name: -3 for name in params},\n",
    "    upper={name: 3 for name in params},\n",
    ")\n",
    "fig = om.sandbox.slice_plot_3d(\n",
    "    func=sphere,\n",
    "    params=params,\n",
    "    bounds=bounds,\n",
    "    projection=\"contour\",\n",
    "    n_gridpoints=50,\n",
    "    # selector=lambda x: [x[\"alpha\"], x[\"beta\"]],\n",
    ")\n",
    "fig.show()"
   ]
  },
  {
   "cell_type": "markdown",
   "id": "6",
   "metadata": {},
   "source": [
    "### Notes\n",
    "\n",
    "- Parallelization can significantly speed up evaluation for expensive functions.\n",
    "- The `selector` allows focusing on specific parameters.\n",
    "- `return_dict=True` lets you manually arrange or modify individual plots"
   ]
  }
 ],
 "metadata": {
  "kernelspec": {
   "display_name": "Python 3 (ipykernel)",
   "language": "python",
   "name": "python3"
  },
  "language_info": {
   "codemirror_mode": {
    "name": "ipython",
    "version": 3
   },
   "file_extension": ".py",
   "mimetype": "text/x-python",
   "name": "python",
   "nbconvert_exporter": "python",
   "pygments_lexer": "ipython3",
   "version": "3.13.3"
  }
 },
 "nbformat": 4,
 "nbformat_minor": 5
}
