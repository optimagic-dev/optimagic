{
 "cells": [
  {
   "cell_type": "markdown",
   "id": "0",
   "metadata": {},
   "source": [
    "# Visualizing Objective Functions with `slice_plot_3d`\n",
    "\n",
    "In optimization, understanding the shape of your objective function is a key step toward choosing the right algorithm.\n",
    "\n",
    "This notebook introduces the `slice_plot_3d` tool, which provides flexible ways to visualize:\n",
    "- Single-parameter sensitivity through **slice plots**,\n",
    "- Pairwise interactions through **contour** or **surface plots**,\n",
    "- Full parameter relationships through **subplot grids**.\n",
    "\n",
    "We will progress from basic to advanced usage, learning how to create clean and insightful plots easily.\n"
   ]
  },
  {
   "cell_type": "markdown",
   "id": "1",
   "metadata": {},
   "source": [
    "## 1D Slice Plot\n",
    "\n",
    "We start by plotting the function by varying each parameter individually,\n",
    "keeping the remaining parameters fixed at their initial values.\n",
    "\n",
    "This provides a clean view of how sensitive the function is to each parameter separately.\n",
    "We use the **Sphere function**, which sums the squares of each input."
   ]
  },
  {
   "cell_type": "code",
   "execution_count": null,
   "id": "2",
   "metadata": {},
   "outputs": [],
   "source": [
    "import numpy as np\n",
    "\n",
    "import optimagic as om"
   ]
  },
  {
   "cell_type": "code",
   "execution_count": null,
   "id": "3",
   "metadata": {},
   "outputs": [],
   "source": [
    "# Define the Sphere function\n",
    "def sphere(params):\n",
    "    x = np.array(list(params.values()))\n",
    "    return np.sum(x**2)"
   ]
  },
  {
   "cell_type": "code",
   "execution_count": null,
   "id": "4",
   "metadata": {},
   "outputs": [],
   "source": [
    "params = {\"alpha\": 0, \"beta\": 0, \"gamma\": 0, \"delta\": 0}\n",
    "bounds = om.Bounds(\n",
    "    lower={name: -5 for name in params},\n",
    "    upper={name: i + 2 for i, name in enumerate(params)},\n",
    ")"
   ]
  },
  {
   "cell_type": "markdown",
   "id": "5",
   "metadata": {},
   "source": [
    "## 1D Slice Plot\n",
    "\n",
    "We start with a **1D slice plot**.\n",
    "This plots the function along each parameter individually,\n",
    "while fixing others at their current values.\n",
    "This helps in understanding each dimension independently."
   ]
  },
  {
   "cell_type": "code",
   "execution_count": null,
   "id": "6",
   "metadata": {
    "jupyter": {
     "is_executing": true
    }
   },
   "outputs": [],
   "source": [
    "fig = om.sandbox.slice_plot_3d(\n",
    "    func=sphere,\n",
    "    params=params,\n",
    "    bounds=bounds,\n",
    ")\n",
    "fig.show()"
   ]
  },
  {
   "cell_type": "markdown",
   "id": "7",
   "metadata": {},
   "source": [
    "## Slice Plot with Selected Parameters\n",
    "\n",
    "In many situations, we are interested in exploring only specific parameters.\n",
    "\n",
    "Using the `selector` argument, we can restrict the slice plots to\n",
    "chosen parameters — here, we select `\"alpha\"` and `\"beta\"`.\n",
    "\n",
    "This focuses our visualization on dimensions of interest."
   ]
  },
  {
   "cell_type": "code",
   "execution_count": null,
   "id": "8",
   "metadata": {},
   "outputs": [],
   "source": [
    "fig = om.sandbox.slice_plot_3d(\n",
    "    func=sphere,\n",
    "    params=params,\n",
    "    bounds=bounds,\n",
    "    selector=lambda p: [p[\"alpha\"], p[\"beta\"]],\n",
    "    projection=\"slice\",\n",
    ")\n",
    "fig.show(renderer=\"png\")"
   ]
  },
  {
   "cell_type": "markdown",
   "id": "9",
   "metadata": {},
   "source": [
    "## 3D Surface Plot for Two Parameters\n",
    "\n",
    "To better understand interaction between parameters,\n",
    "we can switch to a **3D surface plot**.\n",
    "\n",
    "Surface plots reveal valleys, ridges, and general landscape shapes clearly.\n",
    "Here, we vary `\"alpha\"` and `\"beta\"` simultaneously and plot the resulting surface."
   ]
  },
  {
   "cell_type": "code",
   "execution_count": null,
   "id": "10",
   "metadata": {},
   "outputs": [],
   "source": [
    "fig = om.sandbox.slice_plot_3d(\n",
    "    func=sphere,\n",
    "    params=params,\n",
    "    bounds=bounds,\n",
    "    selector=lambda p: [p[\"alpha\"], p[\"beta\"]],\n",
    "    projection=\"surface\",\n",
    "    n_gridpoints=30,\n",
    ")\n",
    "fig.show(renderer=\"png\")"
   ]
  },
  {
   "cell_type": "markdown",
   "id": "11",
   "metadata": {},
   "source": [
    "## 2D Contour Plot for Two Parameters\n",
    "\n",
    "Contour plots offer a 2D view with iso-function-value curves.\n",
    "\n",
    "They are especially useful for:\n",
    "- Finding basins or valleys.\n",
    "- Visualizing optimization paths.\n",
    "- Detecting steep or flat regions easily.\n",
    "\n",
    "Again, we use `\"alpha\"` and `\"beta\"` to generate the plot."
   ]
  },
  {
   "cell_type": "code",
   "execution_count": null,
   "id": "12",
   "metadata": {},
   "outputs": [],
   "source": [
    "fig = om.sandbox.slice_plot_3d(\n",
    "    func=sphere,\n",
    "    params=params,\n",
    "    bounds=bounds,\n",
    "    selector=lambda p: [p[\"alpha\"], p[\"beta\"]],\n",
    "    projection=\"contour\",\n",
    "    n_gridpoints=30,\n",
    ")\n",
    "fig.show(renderer=\"png\")"
   ]
  },
  {
   "cell_type": "markdown",
   "id": "13",
   "metadata": {},
   "source": [
    "## Grid View for Multiple Parameters\n",
    "\n",
    "When selecting **more than two parameters**, `slice_plot_3d`\n",
    "automatically builds a grid:\n",
    "\n",
    "- **Diagonal** elements: 1D slice plots for each parameter.\n",
    "- **Off-diagonal** elements: 3D surface (or contour) plots for parameter pairs.\n",
    "\n",
    "This creates a rich overview showing both individual and pairwise effects."
   ]
  },
  {
   "cell_type": "code",
   "execution_count": null,
   "id": "14",
   "metadata": {},
   "outputs": [],
   "source": [
    "fig = om.sandbox.slice_plot_3d(\n",
    "    func=sphere,\n",
    "    params=params,\n",
    "    bounds=bounds,\n",
    "    projection=\"surface\",\n",
    "    n_gridpoints=20,\n",
    ")\n",
    "fig.show(renderer=\"png\")"
   ]
  },
  {
   "cell_type": "markdown",
   "id": "15",
   "metadata": {},
   "source": [
    "## Full Customization of the Visualization\n",
    "\n",
    "`s‍lice_plot_3d` allows fine control over plot styling:\n",
    "\n",
    "- `layout_kwargs` adjusts figure size, titles, background themes.\n",
    "- `plot_kwargs` controls color maps, marker options, and plot styles.\n",
    "- `make_subplot_kwargs` configures grid spacing, axis sharing, and more.\n",
    "\n",
    "Here, we demonstrate a fully customized plot combining all these features."
   ]
  },
  {
   "cell_type": "code",
   "execution_count": null,
   "id": "16",
   "metadata": {},
   "outputs": [],
   "source": [
    "fig = om.sandbox.slice_plot_3d(\n",
    "    func=sphere,\n",
    "    params=params,\n",
    "    bounds=bounds,\n",
    "    selector=lambda p: [p[\"alpha\"], p[\"beta\"], p[\"gamma\"]],\n",
    "    projection=\"surface\",\n",
    "    n_gridpoints=20,\n",
    "    layout_kwargs={\n",
    "        \"width\": 800,\n",
    "        \"height\": 800,\n",
    "        \"title\": {\"text\": \"Customized Sphere Function Visualization\"},\n",
    "        \"template\": \"plotly_dark\",\n",
    "    },\n",
    "    make_subplot_kwargs={\n",
    "        \"horizontal_spacing\": 0.1,\n",
    "        \"vertical_spacing\": 0.1,\n",
    "    },\n",
    "    plot_kwargs={\n",
    "        \"surface_plot\": {\"colorscale\": \"Viridis\", \"opacity\": 0.8},\n",
    "    },\n",
    ")\n",
    "fig.show(renderer=\"png\")"
   ]
  }
 ],
 "metadata": {
  "kernelspec": {
   "display_name": "Python 3 (ipykernel)",
   "language": "python",
   "name": "python3"
  },
  "language_info": {
   "codemirror_mode": {
    "name": "ipython",
    "version": 3
   },
   "file_extension": ".py",
   "mimetype": "text/x-python",
   "name": "python",
   "nbconvert_exporter": "python",
   "pygments_lexer": "ipython3",
   "version": "3.10.17"
  }
 },
 "nbformat": 4,
 "nbformat_minor": 5
}
